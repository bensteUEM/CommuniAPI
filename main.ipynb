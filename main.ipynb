{
 "cells": [
  {
   "cell_type": "code",
   "execution_count": 1,
   "metadata": {},
   "outputs": [],
   "source": [
    "import json\n",
    "import logging\n",
    "import logging.config\n",
    "import os\n",
    "from datetime import datetime, timedelta\n",
    "from pathlib import Path\n",
    "\n",
    "from churchtools_api.churchtools_api import ChurchToolsApi\n",
    "\n",
    "from communi_api.churchToolsActions import (\n",
    "    create_event_chats,\n",
    "    delete_event_chats,\n",
    "    get_x_day_event_ids,\n",
    ")\n",
    "from communi_api.communi_api import CommuniApi\n"
   ]
  },
  {
   "cell_type": "markdown",
   "metadata": {},
   "source": [
    "# Init connection and logging"
   ]
  },
  {
   "cell_type": "code",
   "execution_count": 2,
   "metadata": {},
   "outputs": [],
   "source": [
    "logger = logging.getLogger(__name__)\n",
    "\n",
    "config_file = Path(\"logging_config.json\")\n",
    "with config_file.open(encoding=\"utf-8\") as f_in:\n",
    "    logging_config = json.load(f_in)\n",
    "    log_directory = Path(logging_config[\"handlers\"][\"file\"][\"filename\"]).parent\n",
    "    if not log_directory.exists():\n",
    "        log_directory.mkdir(parents=True)\n",
    "    logging.config.dictConfig(config=logging_config)\n",
    "\n",
    "if \"COMMUNI_TOKEN\" in os.environ:\n",
    "    COMMUNI_TOKEN = os.environ[\"COMMUNI_TOKEN\"]\n",
    "    COMMUNI_SERVER = os.environ[\"COMMUNI_SERVER\"]\n",
    "    COMMUNI_APPID = os.environ[\"COMMUNI_APPID\"]\n",
    "    CT_TOKEN = os.environ[\"CT_TOKEN\"]\n",
    "    CT_DOMAIN = os.environ[\"CT_DOMAIN\"]\n",
    "    logger.info(\"using connection details provided with ENV variables\")\n",
    "else:\n",
    "    from secure.config import communiAppId, rest_server, token\n",
    "\n",
    "    COMMUNI_TOKEN = token\n",
    "    COMMUNI_SERVER = rest_server\n",
    "    COMMUNI_APPID = communiAppId\n",
    "    from secure.config import ct_domain, ct_token\n",
    "\n",
    "    CT_TOKEN = ct_token\n",
    "    CT_DOMAIN = ct_domain\n",
    "    logging.info(\"using connection details provided from secrets folder\")\n",
    "\n",
    "communi_api = CommuniApi(COMMUNI_SERVER, COMMUNI_TOKEN, COMMUNI_APPID)\n",
    "ct_api = ChurchToolsApi(CT_DOMAIN, CT_TOKEN)\n",
    "logging.debug(communi_api)\n",
    "logging.debug(ct_api)"
   ]
  },
  {
   "cell_type": "markdown",
   "metadata": {},
   "source": [
    "# Next 14 day events\n",
    "* This will delete all events of the past 14 days\n",
    "* and create new / update all \"relevant\" events for the next 15 days"
   ]
  },
  {
   "cell_type": "code",
   "execution_count": 3,
   "metadata": {},
   "outputs": [
    {
     "ename": "AttributeError",
     "evalue": "type object 'datetime.datetime' has no attribute 'timedelta'",
     "output_type": "error",
     "traceback": [
      "\u001b[0;31m---------------------------------------------------------------------------\u001b[0m",
      "\u001b[0;31mAttributeError\u001b[0m                            Traceback (most recent call last)",
      "\u001b[1;32m/home/benste/PycharmProjects/CommuniAPI/main.ipynb Cell 5\u001b[0m line \u001b[0;36m2\n\u001b[1;32m      <a href='vscode-notebook-cell:/home/benste/PycharmProjects/CommuniAPI/main.ipynb#W4sZmlsZQ%3D%3D?line=0'>1</a>\u001b[0m reference_day \u001b[39m=\u001b[39m datetime\u001b[39m.\u001b[39mtoday()\n\u001b[0;32m----> <a href='vscode-notebook-cell:/home/benste/PycharmProjects/CommuniAPI/main.ipynb#W4sZmlsZQ%3D%3D?line=1'>2</a>\u001b[0m reference_day \u001b[39m+\u001b[39m datetime\u001b[39m.\u001b[39;49mtimedelta(days\u001b[39m=\u001b[39m\u001b[39m1\u001b[39m)\n\u001b[1;32m      <a href='vscode-notebook-cell:/home/benste/PycharmProjects/CommuniAPI/main.ipynb#W4sZmlsZQ%3D%3D?line=2'>3</a>\u001b[0m event_ids \u001b[39m=\u001b[39m get_x_day_event_ids(ct_api, reference_day, \u001b[39m-\u001b[39m\u001b[39m14\u001b[39m)\n\u001b[1;32m      <a href='vscode-notebook-cell:/home/benste/PycharmProjects/CommuniAPI/main.ipynb#W4sZmlsZQ%3D%3D?line=3'>4</a>\u001b[0m \u001b[39mfor\u001b[39;00m event \u001b[39min\u001b[39;00m event_ids:\n",
      "\u001b[0;31mAttributeError\u001b[0m: type object 'datetime.datetime' has no attribute 'timedelta'"
     ]
    }
   ],
   "source": [
    "reference_day = datetime.today()\n",
    "reference_day + timedelta(days=1)\n",
    "event_ids = get_x_day_event_ids(ct_api, reference_day, -14)\n",
    "for event in event_ids:\n",
    "    print(f\"{ct_api.get_events(eventId=event)}\")\n",
    "delete_event_chats(ct_api, communi_api, event_ids)"
   ]
  },
  {
   "cell_type": "markdown",
   "metadata": {},
   "source": [
    "Create new days for 15 days"
   ]
  },
  {
   "cell_type": "code",
   "execution_count": null,
   "metadata": {},
   "outputs": [],
   "source": [
    "reference_day = datetime.today()\n",
    "reference_day + timedelta(days=1)\n",
    "event_ids = get_x_day_event_ids(ct_api, reference_day, 15)\n",
    "for event in event_ids:\n",
    "    print(f\"{ct_api.get_events(eventId=event)}\")\n",
    "create_event_chats(ct_api, communi_api, event_ids, only_relevant=True)"
   ]
  },
  {
   "cell_type": "markdown",
   "metadata": {},
   "source": [
    "## Specific Event\n",
    "create single event by ID"
   ]
  },
  {
   "cell_type": "code",
   "execution_count": null,
   "metadata": {},
   "outputs": [],
   "source": [
    "event_ids = [2240]\n",
    "# create_event_chats(ct_api, communi_api, event_ids, only_relevant=True)"
   ]
  }
 ],
 "metadata": {
  "kernelspec": {
   "display_name": ".venv",
   "language": "python",
   "name": "python3"
  },
  "language_info": {
   "codemirror_mode": {
    "name": "ipython",
    "version": 3
   },
   "file_extension": ".py",
   "mimetype": "text/x-python",
   "name": "python",
   "nbconvert_exporter": "python",
   "pygments_lexer": "ipython3",
   "version": "3.11.4"
  },
  "orig_nbformat": 4
 },
 "nbformat": 4,
 "nbformat_minor": 2
}
